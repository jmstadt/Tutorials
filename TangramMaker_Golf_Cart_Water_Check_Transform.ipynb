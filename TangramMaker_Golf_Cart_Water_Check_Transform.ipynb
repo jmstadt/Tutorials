{
 "cells": [
  {
   "cell_type": "markdown",
   "metadata": {},
   "source": [
    "![](images/TangramMakerLogo.png)"
   ]
  },
  {
   "cell_type": "markdown",
   "metadata": {},
   "source": [
    "# <center> Golf Cart Water Check Contextual Transform Toy Project </center>"
   ]
  },
  {
   "cell_type": "markdown",
   "metadata": {},
   "source": [
    "### Background for this project"
   ]
  },
  {
   "cell_type": "markdown",
   "metadata": {},
   "source": [
    "#### The Flex Specification Language"
   ]
  },
  {
   "cell_type": "markdown",
   "metadata": {},
   "source": [
    "[Tangram Flex](https://www.tangramflex.com) produces a specification language called \"Flex\".  Flex allows you to define interface standards/interface control documents (ICDs) that can directly be linked to code.  In addtion, Flex allows you to define transforms between different types of interfaces and these transforms are also linked to code. This code is typically used in embedded systems to provide messaging apis between software components.  You can read about the benefits of Flex [here](https://assets.website-files.com/5f203955af96993dab25b732/622f4f4b5271725653b903ae_WhyFlex_PublicWhitepaperv1.pdf) "
   ]
  },
  {
   "cell_type": "markdown",
   "metadata": {},
   "source": [
    "#### Contextual Transforms"
   ]
  },
  {
   "cell_type": "markdown",
   "metadata": {},
   "source": [
    "An important feature of Flex is the ability to define and leverage **contextual transforms**.  Contextual transforms are transforms between different types of interfaces where there is a \"context\" at play.  The context is data that does not come from either of the interfaces but that is relevant for the transform.  Contexts can take a variety of forms but this toy project will need a concept of time.  As you will see below, a time in days is needed to execute the transform and that time does not come from either of the interfaces.  Dealing with these types of contexts can be problematic in mission critical systems in that the context can introduce side effects that can cause indeterminate or unexpected behavior.  For a brief illustration of the potential problems that side effects cause see this blog [Code Smell: Side Effect](https://medium.com/thinkster-io/code-smell-side-effects-caf799df2151).  Flex deals with these types of side effects in a controlled way and while this toy is not a mission critical system, Flex's ability in this regard is leveraged."
   ]
  },
  {
   "cell_type": "markdown",
   "metadata": {},
   "source": [
    "#### Electric Golf Carts run on batteries that need to be regularly checked"
   ]
  },
  {
   "cell_type": "markdown",
   "metadata": {},
   "source": [
    "<img src=\"images/GolfCart.png\" width =\"400\"/>"
   ]
  },
  {
   "cell_type": "markdown",
   "metadata": {},
   "source": [
    "The golf cart batteries are under the front seat and are accessed by lifting the front seat up.  **The number one rule for golf cart battery maintenance is to never let your water level go below the top of the plates.** The cap covers are removed from each battery (each battery usually has three caps).  And the plates/filaments in the battery are inspected.  If the water level is getting low to where the plates/filaments are exposed, the battery compartment shoul be filled with water.  Note:  Only used distilled water."
   ]
  },
  {
   "cell_type": "markdown",
   "metadata": {},
   "source": [
    "<img src=\"images/GolfCartBattery.png\" width =\"400\"/>"
   ]
  },
  {
   "cell_type": "markdown",
   "metadata": {},
   "source": [
    "It is not the most fun job to do.  But, it needs to be done at least every month or the batteries will fail and need to be replaced (and they are expensive).  So, the job is often distributed to people who are in proximity to the Golf Cart.  But, who is closest to the Golf Cart?  If they are closest, how should they be notified that they have the assignment to check the golf cart battery water level?  And even if they are the closest, if the battery water level has been checked within the last month, they do not need to check the water.   "
   ]
  },
  {
   "cell_type": "markdown",
   "metadata": {},
   "source": [
    "### So lets design a system to accomplish this task\n",
    "We can design this system using components.  With Tangram Maker, we can model the design, create a position report component communication interface and a battery water check assignment component communication interface.  And we can author the contextual transform between the position reports and the assignment with the context of how many days it has been since the last check of the battery water. We can generate code for this design that the position report component and the battery water check component can leverage.  \n",
    "\n",
    "In this way we can be flexible on what implementation we use for the position report component and the check assignment component.  I.e. for this implementation, we will use Life360 for the position report and gmail for the check assignment component.  But, in the future if someone wants to use a different GPS tool or a different assignment component (i.e. text message), we can easily swap them."
   ]
  },
  {
   "cell_type": "markdown",
   "metadata": {},
   "source": [
    "<img src=\"images/GolfCartSystemDesign.png\" width =\"600\"/>"
   ]
  },
  {
   "cell_type": "markdown",
   "metadata": {},
   "source": [
    "**So let's get started!  The following steps will walk you through**"
   ]
  },
  {
   "cell_type": "markdown",
   "metadata": {},
   "source": [
    "### Get a Free Tangram Maker Account so you can author your Flex standard"
   ]
  },
  {
   "cell_type": "markdown",
   "metadata": {},
   "source": [
    "Sign up for a free Tangram Maker account at https://www.tangramflex.com/tangram-maker.  Once you have your login information, you can access Tangram Maker at https://maker.tangramflex.io."
   ]
  },
  {
   "cell_type": "markdown",
   "metadata": {},
   "source": [
    "<img src=\"images/TangramMakerLogin.png\" width =\"400\"/>"
   ]
  },
  {
   "cell_type": "markdown",
   "metadata": {},
   "source": [
    "Once logged in, you can review docs and tutorials at https://docs.tangramflex.io/docs/tutorials/what_is_tangrampro.  Note:  Tangram Maker is the free version of Tangram Pro and the tutorials for Tangram Maker apply to Tangram Pro."
   ]
  },
  {
   "cell_type": "markdown",
   "metadata": {},
   "source": [
    "### Author the Position Report and Check Assignment Interfaces as well as the Contextual Transform in Flex"
   ]
  },
  {
   "cell_type": "markdown",
   "metadata": {},
   "source": [
    "The required flex interfaces and transform code is provided in this repositories **SupportingCode folder**.  You can use this code by copying and pasting into the Tangram Maker Flex Editor and the Author a Message Set with Flex Tutorial here: https://docs.tangramflex.io/docs/tutorials/flex_authorship.  For more details on authoring flex go to: https://docs.tangramflex.io/docs/flex/start.  Note: You can view or edit a .flex file in any text editor."
   ]
  },
  {
   "cell_type": "markdown",
   "metadata": {},
   "source": [
    "The resulting directory structure should like as follows in Tangram Maker.  Note:  Tangram Maker automatically increments published message packages when you edit them.  I edited my first Check Assignment interface definition so I am at version v2.  And at version v for the Position Report Interface.  Note your versions as this is used in the Transform as well as the resulting generated code"
   ]
  },
  {
   "cell_type": "markdown",
   "metadata": {},
   "source": [
    "<img src=\"images/MakerGolfCartFlexDirectoryStructure.png\" width=\"400\"/>"
   ]
  },
  {
   "cell_type": "markdown",
   "metadata": {},
   "source": [
    "The Transform and the Interfaces will look as follows:"
   ]
  },
  {
   "cell_type": "markdown",
   "metadata": {},
   "source": [
    "<img src=\"images/MakerFlexPositionReport.png\" width=\"200\"/>\n",
    "<img src=\"images/MakerFlexCheckAssignment.png\" width=\"200\"/>\n",
    "<img src=\"images/MakerFlexIMPRtoBWCAgivenDSLCTransform.png\" width=\"200\"/>"
   ]
  },
  {
   "cell_type": "markdown",
   "metadata": {},
   "source": [
    "One of the great things in Tangram Maker is that it allows you to visualize your transform as a model.  Most people want to model capabilities these days and Tangram Maker allows you to visualize your flex code.  It is really easy to do in Tangram Maker.  Lets see if you can do it.  For hints you can go to https://docs.tangramflex.io/docs/tutorials/visualize_a_Component_based_system_design.  When you are done, the model should look something like the below.  Note, if you don't get there, see the next step and it will show you how."
   ]
  },
  {
   "cell_type": "markdown",
   "metadata": {},
   "source": [
    "<img src=\"images/MakerIMPRtoBWCAgivenDSLCTransformDesign.png\" width=\"400\"/>"
   ]
  },
  {
   "cell_type": "markdown",
   "metadata": {},
   "source": [
    "### Generate Usable Code from the Contextual Transform you created"
   ]
  },
  {
   "cell_type": "markdown",
   "metadata": {},
   "source": [
    "OK, great.  We have created our model, now let's put it to use.  Tangram Maker allows you to generate code from a model.  On the following link https://docs.tangramflex.io/docs/tutorials/implement_transform.  Go through Step 1, you may have already did that.  Then Step 2.  Then skip Step 3.  Then only do the second part of Step 4.  That will get you output code to download. You should see the following when you set up your workflow and your code gen in Maker."
   ]
  },
  {
   "cell_type": "markdown",
   "metadata": {},
   "source": [
    "<img src=\"images/MakerWorkflow.png\" width=\"200\"/>\n",
    "<img src=\"images/MakerCodeGen.png\" width=\"200\"/>"
   ]
  },
  {
   "cell_type": "markdown",
   "metadata": {},
   "source": [
    "When you download your code the directory structure should look as follows:"
   ]
  },
  {
   "cell_type": "markdown",
   "metadata": {},
   "source": [
    "<img src=\"images/MakerGolfCartDownloadStructure.png\" width=\"200\"/>"
   ]
  },
  {
   "cell_type": "markdown",
   "metadata": {},
   "source": [
    "Now we have interface code and transform code for the design.  I like to use a Jupyter Notebook, so we will need a little helper code as per the below.  In addition, we will need to define the input for the contextual parameter."
   ]
  },
  {
   "cell_type": "markdown",
   "metadata": {},
   "source": [
    "### Prep the output code to use in a Jupyter Notebook"
   ]
  },
  {
   "cell_type": "markdown",
   "metadata": {},
   "source": [
    "The first thing to note is that the code as is is designed to run on Linux.  If you have Linux, you can skip this.  But, I have a Mac, so I set up a VirtualBox.  How to set up VirtualBox has a variety of approaches.  But, you can follow the steps in the following tutorial to do that:  https://docs.tangramflex.io/docs/tutorials/tutorials/implement_csi"
   ]
  },
  {
   "cell_type": "markdown",
   "metadata": {},
   "source": [
    "Once you have that set up.  You can install a jupyter notebook with \"sudo pip install jupyter\".  And then you can run the notebook with \"run jupyter notebook\".\n",
    "\n",
    "Just a couple more things now."
   ]
  },
  {
   "cell_type": "markdown",
   "metadata": {},
   "source": [
    "First, at the time of writing this project there is a bug in Maker in the variables.mk file in the Transforms folder.  For the input and output CSI if you see \"Unknown\" or \"Unknown Folder\", change those to v1 and v2 respectively so it looks like the below.  If the folders have a directory, good news, we fixed the bug:)"
   ]
  },
  {
   "cell_type": "markdown",
   "metadata": {},
   "source": [
    "<img src=\"images/variables_mk_edit.png\" width=\"400\"/>"
   ]
  },
  {
   "cell_type": "markdown",
   "metadata": {},
   "source": [
    "Ok, next the python package I am using is ctypes.  Ctypes takes c, not c++.  So I just have to wrap the getters and setters in an extern C helper function.  This is included in the SupportingCode folder.  Also, the associated Makefile is there as well.  But, that helper c++ program in the Transform folder and replace the generated Makefile in the Transform folder with the provided Makefile"
   ]
  },
  {
   "cell_type": "markdown",
   "metadata": {},
   "source": [
    "Next, in the Transform Folder, you will need to modify the **Provider_BWCAfromIMPRgivenDSLC_DaysSinceLastCheck.hpp** in order for it to read the contextual parameter from a file.  How to do that is somewhat outside the scope of this project.  But, you can use the modified file in the Supporting Code folder and inspect the changes"
   ]
  },
  {
   "cell_type": "markdown",
   "metadata": {},
   "source": [
    "Finally do the following: 1) In order to use the external c, go into the v1 folder in a terminal and first run \"make clean\" and then \"make ffi=y\".  Do the same in the v2 folder.  Then go to the Transform folder and run \"make\".  When it compiles you should have a new \"libgolfcartmsg.so\" in that folder.  If you do, you are good to go for the next step."
   ]
  },
  {
   "cell_type": "markdown",
   "metadata": {},
   "source": [
    "### Use the ctypes package and the libgolfcartmsg.so that you generated to use your model that you created in code in a jupyter-notebook"
   ]
  },
  {
   "cell_type": "markdown",
   "metadata": {},
   "source": [
    "If you are not familiar with a jupyter-notebook.  Click on a below cell and either edit or hit shift-enter and the below code will execute."
   ]
  },
  {
   "cell_type": "code",
   "execution_count": 32,
   "metadata": {},
   "outputs": [],
   "source": [
    "# import the ctypes package in order to read the Tangram Maker \n",
    "# generated c/c++ transform standard represented in a shared object\n",
    "import numpy.ctypeslib as ctl\n",
    "import ctypes"
   ]
  },
  {
   "cell_type": "code",
   "execution_count": 33,
   "metadata": {},
   "outputs": [
    {
     "data": {
      "text/plain": [
       "'/media/sf_toy_movies'"
      ]
     },
     "execution_count": 33,
     "metadata": {},
     "output_type": "execute_result"
    }
   ],
   "source": [
    "# check your working directory and align editing directories in below cells accordingly\n",
    "%pwd"
   ]
  },
  {
   "cell_type": "code",
   "execution_count": 34,
   "metadata": {},
   "outputs": [],
   "source": [
    "# assign directories\n",
    "golfcart_libname = 'libgolfcartmsg.so'\n",
    "golfcart_libdir = './golfcart_out_25_Apr_2022/transform'\n",
    "golfcart_lib=ctl.load_library(golfcart_libname, golfcart_libdir)"
   ]
  },
  {
   "cell_type": "markdown",
   "metadata": {},
   "source": [
    "### Create the Position Report Component"
   ]
  },
  {
   "cell_type": "markdown",
   "metadata": {},
   "source": [
    "#### The Position Report Component\n",
    "The first component can be a position report component.  This component will take the community of potential assignees for the task of checking the water and report their location.  This company will leverage the Life360 app that runs as an app on mobile devices.  The Life360 app has an api that can be called by this component to get latitude and longitude.  We will assume each potential assignee has a mobile device running Life360."
   ]
  },
  {
   "cell_type": "markdown",
   "metadata": {},
   "source": [
    "<img src=\"images/Life360.png\" width =\"200\"/>"
   ]
  },
  {
   "cell_type": "code",
   "execution_count": 35,
   "metadata": {},
   "outputs": [],
   "source": [
    "import requests\n",
    "import json\n",
    "import math\n",
    "import datetime\n",
    "from datetime import date"
   ]
  },
  {
   "cell_type": "code",
   "execution_count": 36,
   "metadata": {},
   "outputs": [],
   "source": [
    "class life360:\n",
    "    \n",
    "    base_url = \"https://api.life360.com/v3/\"\n",
    "    token_url = \"oauth2/token.json\"\n",
    "    circles_url = \"circles.json\"\n",
    "    circle_url = \"circles/\"\n",
    "\n",
    "    def __init__(self, authorization_token=None, username=None, password=None):\n",
    "        self.authorization_token = authorization_token\n",
    "        self.username = username\n",
    "        self.password = password\n",
    "\n",
    "    def make_request(self, url, params=None, method='GET', authheader=None):\n",
    "        headers = {'Accept': 'application/json'}\n",
    "        if authheader:\n",
    "            headers.update({'Authorization': authheader, 'cache-control': \"no-cache\",})\n",
    "        \n",
    "        if method == 'GET':\n",
    "            r = requests.get(url, headers=headers)\n",
    "        elif method == 'POST':\n",
    "            r = requests.post(url, data=params, headers=headers)\n",
    "\n",
    "        return r.json()\n",
    "\n",
    "    def authenticate(self):\n",
    "        \n",
    "\n",
    "        url = self.base_url + self.token_url\n",
    "        params = {\n",
    "            \"grant_type\":\"password\",\n",
    "            \"username\":self.username,\n",
    "            \"password\":self.password,\n",
    "        }\n",
    "\n",
    "        r = self.make_request(url=url, params=params, method='POST', authheader=\"Basic \" + self.authorization_token)\n",
    "        try:\n",
    "            self.access_token = r['access_token']\n",
    "            return True\n",
    "        except:\n",
    "            return False\n",
    "\n",
    "    def get_circles(self):\n",
    "        url = self.base_url + self.circles_url\n",
    "        authheader=\"bearer \" + self.access_token\n",
    "        r = self.make_request(url=url, method='GET', authheader=authheader)\n",
    "        return r['circles']\n",
    "\n",
    "    def get_circle(self, circle_id):\n",
    "        url = self.base_url + self.circle_url + circle_id\n",
    "        authheader=\"bearer \" + self.access_token\n",
    "        r = self.make_request(url=url, method='GET', authheader=authheader)\n",
    "        return r"
   ]
  },
  {
   "cell_type": "code",
   "execution_count": 37,
   "metadata": {},
   "outputs": [],
   "source": [
    "# basic authorization hash (base64 if you want to decode it and see the sekrets)\n",
    "# this is a googleable or sniffable value. i imagine life360 changes this sometimes. \n",
    "authorization_token = \"cFJFcXVnYWJSZXRyZTRFc3RldGhlcnVmcmVQdW1hbUV4dWNyRUh1YzptM2ZydXBSZXRSZXN3ZXJFQ2hBUHJFOTZxYWtFZHI0Vg==\""
   ]
  },
  {
   "cell_type": "code",
   "execution_count": 38,
   "metadata": {},
   "outputs": [],
   "source": [
    "# your username and password (hope they are secure!)\n",
    "username = \"**************\"\n",
    "password = \"***************\""
   ]
  },
  {
   "cell_type": "code",
   "execution_count": 39,
   "metadata": {},
   "outputs": [],
   "source": [
    "def PositionReportComponent(authorization_token, username, password):\n",
    "    my_api = life360(authorization_token=authorization_token, username=username, password=password)\n",
    "    my_api.authenticate()\n",
    "    circles =  my_api.get_circles()\n",
    "    id = circles[0]['id']\n",
    "    circle = my_api.get_circle(id)\n",
    "    ianLat = float(circle['members'][3]['location']['latitude'])\n",
    "    ianLong = float(circle['members'][3]['location']['longitude'])\n",
    "    markLat = float(circle['members'][0]['location']['latitude'])\n",
    "    markLong = float(circle['members'][0]['location']['longitude'])\n",
    "    return ianLat, ianLong, markLat, markLong"
   ]
  },
  {
   "cell_type": "code",
   "execution_count": 40,
   "metadata": {},
   "outputs": [],
   "source": [
    "ianLat, ianLong, markLat, markLong = PositionReportComponent(authorization_token, username, password)"
   ]
  },
  {
   "cell_type": "markdown",
   "metadata": {},
   "source": [
    "### Use the Maker generated Component Software Interface to communicate the position information"
   ]
  },
  {
   "cell_type": "code",
   "execution_count": 41,
   "metadata": {},
   "outputs": [],
   "source": [
    "py_float_latlong_msg = golfcart_lib.create_and_populate_impr_msg"
   ]
  },
  {
   "cell_type": "code",
   "execution_count": 42,
   "metadata": {},
   "outputs": [],
   "source": [
    "py_float_latlong_msg.argtypes = [ctypes.c_double, ctypes.c_double, ctypes.c_double, ctypes.c_double]"
   ]
  },
  {
   "cell_type": "code",
   "execution_count": 43,
   "metadata": {},
   "outputs": [],
   "source": [
    "my_impr_input = py_float_latlong_msg(ianLat, ianLong, markLat, markLong)"
   ]
  },
  {
   "cell_type": "code",
   "execution_count": 63,
   "metadata": {},
   "outputs": [],
   "source": [
    "#ianLat, ianLong, markLat, markLong"
   ]
  },
  {
   "cell_type": "markdown",
   "metadata": {},
   "source": [
    "### Write the Contextual Parameter to a file that the Transform function will use\n",
    "In this case the contextual parameter is an integer representing the number of days since the days since the last check"
   ]
  },
  {
   "cell_type": "code",
   "execution_count": 45,
   "metadata": {},
   "outputs": [],
   "source": [
    "lastWaterCheck = datetime.datetime(2022,4,1)"
   ]
  },
  {
   "cell_type": "code",
   "execution_count": 46,
   "metadata": {},
   "outputs": [],
   "source": [
    "def write_contextual_parameter_to_file(lastWaterCheck):\n",
    "    today = datetime.datetime.now()\n",
    "    daysSinceCheck = (today - lastWaterCheck).days\n",
    "    print(daysSinceCheck)\n",
    "    f = open('output3.txt','w')\n",
    "    f.write('{}'.format(daysSinceCheck))\n",
    "    f.close()"
   ]
  },
  {
   "cell_type": "code",
   "execution_count": 47,
   "metadata": {},
   "outputs": [
    {
     "name": "stdout",
     "output_type": "stream",
     "text": [
      "35\n"
     ]
    }
   ],
   "source": [
    "#note the absolute directory where the file is being written as you will need to \n",
    "#populate the exact path in the Provider_BWCAfromIMPRgivenDSLC_DaysSinceLastCheck.hpp uses\n",
    "write_contextual_parameter_to_file(lastWaterCheck)"
   ]
  },
  {
   "cell_type": "markdown",
   "metadata": {},
   "source": [
    "### Create a placeholder interface for the check assignment result of the transform"
   ]
  },
  {
   "cell_type": "code",
   "execution_count": 48,
   "metadata": {},
   "outputs": [],
   "source": [
    "py_bwca_msg = golfcart_lib.create_bwca_msg"
   ]
  },
  {
   "cell_type": "code",
   "execution_count": 49,
   "metadata": {},
   "outputs": [],
   "source": [
    "my_c_output = py_bwca_msg()"
   ]
  },
  {
   "cell_type": "markdown",
   "metadata": {},
   "source": [
    "### Execute the Contextual Transform"
   ]
  },
  {
   "cell_type": "code",
   "execution_count": 50,
   "metadata": {},
   "outputs": [],
   "source": [
    "my_c_try = golfcart_lib.transform_impr2bwca"
   ]
  },
  {
   "cell_type": "code",
   "execution_count": 51,
   "metadata": {},
   "outputs": [],
   "source": [
    "my_c_transform = my_c_try(my_impr_input, my_c_output)"
   ]
  },
  {
   "cell_type": "code",
   "execution_count": 52,
   "metadata": {},
   "outputs": [],
   "source": [
    "my_bwca_result = golfcart_lib.return_bwca"
   ]
  },
  {
   "cell_type": "code",
   "execution_count": 53,
   "metadata": {},
   "outputs": [],
   "source": [
    "my_bwca_result.restype = ctypes.c_char_p"
   ]
  },
  {
   "cell_type": "code",
   "execution_count": 54,
   "metadata": {},
   "outputs": [],
   "source": [
    "my_bwca_output = my_bwca_result(my_c_output)"
   ]
  },
  {
   "cell_type": "code",
   "execution_count": 55,
   "metadata": {},
   "outputs": [],
   "source": [
    "my_workable_bwca = my_bwca_output.decode(\"utf-8\")"
   ]
  },
  {
   "cell_type": "code",
   "execution_count": 56,
   "metadata": {},
   "outputs": [
    {
     "data": {
      "text/plain": [
       "'Mark'"
      ]
     },
     "execution_count": 56,
     "metadata": {},
     "output_type": "execute_result"
    }
   ],
   "source": [
    "my_workable_bwca"
   ]
  },
  {
   "cell_type": "markdown",
   "metadata": {},
   "source": [
    "### Create a Check Assignment Component that uses the Check Assignment Communication Interface\n",
    "For this component we will use gmail and yagmail.  But, any communication interface can be used"
   ]
  },
  {
   "cell_type": "markdown",
   "metadata": {},
   "source": [
    "<img src=\"images/Gmail.png\" width =\"200\"/>"
   ]
  },
  {
   "cell_type": "code",
   "execution_count": 57,
   "metadata": {},
   "outputs": [],
   "source": [
    "#pip install yagmail (uncomment)"
   ]
  },
  {
   "cell_type": "code",
   "execution_count": 58,
   "metadata": {},
   "outputs": [],
   "source": [
    "import yagmail"
   ]
  },
  {
   "cell_type": "code",
   "execution_count": 59,
   "metadata": {},
   "outputs": [],
   "source": [
    "user = yagmail.SMTP(user='**********@gmail.com', password='**********')"
   ]
  },
  {
   "cell_type": "code",
   "execution_count": 62,
   "metadata": {},
   "outputs": [
    {
     "name": "stdout",
     "output_type": "stream",
     "text": [
      "sending email to mark\n"
     ]
    }
   ],
   "source": [
    "if my_workable_bwca == \"Mark\":\n",
    "    print(\"sending email to mark\")\n",
    "    user.send(to='********@gmail.com', subject='Check the Golf Cart Battery Level', contents='The golf cart battery water level needs to be checked and you are closest')\n",
    "elif my_workable_bwca == \"Ian\":\n",
    "    user.send(to='********@gmail.com', subject='Check the Golf Cart Battery Level', contents='The golf cart battery water level needs to be checked and you are closest')\n",
    "elif my_workable_bwca == \"NotNeeded\":\n",
    "    pass"
   ]
  },
  {
   "cell_type": "code",
   "execution_count": 61,
   "metadata": {},
   "outputs": [],
   "source": [
    "#there are functions to free the memory that are provided that can also \n",
    "#be called and should be done for projects that are not toys"
   ]
  },
  {
   "cell_type": "markdown",
   "metadata": {},
   "source": [
    "### That is it.  Well done.  While this toy project may seem like a lot of work for this toy.  Think about it.  You created a transformation between a position report generator and an assignor.  The components and transformed are modeled with definitions that can be shared.  In addition, either the LIfe360 or Gmail can be easily swapped out and the transform and interfaces are still applicable.  You essentially created a modular open system architecture.  In addition, you used the structure of Flex to deal with a needed side effect (i.e. the Days Since Last Check).  This allows you to handle the side effect in a trusted way."
   ]
  },
  {
   "cell_type": "code",
   "execution_count": null,
   "metadata": {},
   "outputs": [],
   "source": []
  }
 ],
 "metadata": {
  "kernelspec": {
   "display_name": "Python 3 (ipykernel)",
   "language": "python",
   "name": "python3"
  },
  "language_info": {
   "codemirror_mode": {
    "name": "ipython",
    "version": 3
   },
   "file_extension": ".py",
   "mimetype": "text/x-python",
   "name": "python",
   "nbconvert_exporter": "python",
   "pygments_lexer": "ipython3",
   "version": "3.8.10"
  }
 },
 "nbformat": 4,
 "nbformat_minor": 4
}
