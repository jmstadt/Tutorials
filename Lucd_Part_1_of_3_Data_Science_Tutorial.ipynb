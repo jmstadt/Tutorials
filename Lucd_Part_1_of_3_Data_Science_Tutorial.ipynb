{
 "cells": [
  {
   "cell_type": "markdown",
   "metadata": {},
   "source": [
    "![](images/Capture2.JPG)"
   ]
  },
  {
   "cell_type": "markdown",
   "metadata": {},
   "source": [
    "#  <center> Tutorial: Data Science Tutorial Part 1 of 3 </center>"
   ]
  },
  {
   "cell_type": "markdown",
   "metadata": {},
   "source": [
    "## Background on Lucd"
   ]
  },
  {
   "cell_type": "markdown",
   "metadata": {},
   "source": [
    "The Lucd Enterprise AI Data Science Platform is a highly secure, scalable, open and flexible platform for persisting an fusing large and numerous datasets and training AI models for production against those datasets.\n",
    "The Lucd platform is an end to end platform that can be deployed in public cloud environments, on premise on bare metal hardware, or the Lucd multi-tenant PaaS can be directly accessed.  The platform consists of:\n",
    "\n",
    " - A scalable open data ingest capability\n",
    " - A petabyte scale unified data space data repository\n",
    " - 3-D Visualization and Exploration\n",
    " - An Exploratory Data Analysis Rest Service\n",
    " - A Kubernetes environment to train PyTorch and TensorFlow models\n",
    " - NLP Word Embedding and Explainable AI Assets\n",
    " - Model results visualization and exporting to internal or external serving capability"
   ]
  },
  {
   "cell_type": "markdown",
   "metadata": {},
   "source": [
    "![](images/Architecture1.png)"
   ]
  },
  {
   "cell_type": "markdown",
   "metadata": {},
   "source": [
    "## Introduction, Prerequisites"
   ]
  },
  {
   "cell_type": "markdown",
   "metadata": {},
   "source": [
    "This tutorial demonstrates the steps required to train an AI model on data leveraging the Lucd Data Science Platform.  The tutorial is a toy, leveraging the IRIS dataset, designed to show the basic steps to train a model.  In the example a Virtual Data Set is created, A custom operation adds a categorical feature to the existing continuous features.  Then a custom Pytorch model is developed and trained in the platform.  Both the Lucd 3D UI and the Lucd Python Client are leveraged during the tutorial.  The tutorial is brokein up into three Parts:\n",
    "1. Part 1: Creating a Virtual Data Set (VDS)\n",
    "2. Part 2: Performing a Custom Operation during Exploratory Data Analysis\n",
    "3. Part 3: Developing a Custom AI Model and Training in the Lucd Platform\n",
    "\n",
    "Prerequisites are:\n",
    " - Deploying the Lucd Platform if required (the Lucd Platform can be deployed as a dedicated on premise or cloud instance or the Lucd PaaS can be accessed.\n",
    "     - This step is outside of scope for this tutorial.  For Deploying the platform, refer to:\n",
    "         - Lucd Infrastructure Requirements:  https://community.lucd.ai/hc/en-us/articles/360037762592-Infrastructure-Requirements-v6-2-0\n",
    "         - Lucd Deployment Guide:  https://community.lucd.ai/hc/en-us/articles/360037762792-Deployment-Guide-v6-2-0\n",
    "         - Create Security and Access Framework, Create User Account(s) \n",
    "\n",
    " - Obtaining a Lucd account with appropriate security settings to access/retrieve data.  Contact marketing@lucd.ai or refer to:\n",
    "     - https://community.lucd.ai/hc/en-us/articles/360037995531-Lucd-Client-STEAM-Installation-Guide-Lucd-Internal-\n",
    " - Obtaining the Lucd Python Client package (in the future pip install will be available).  For now, obtain by contacting marketing@lucd.ai\n",
    " - Downloading and installing a Jupyter notebook (this tutorial assumes that an Anaconda Jupyter notebook is used)\n",
    "     - Also refer to:  https://github.com/jmstadt/Tutorials/blob/master/Lucd_Pulling_a_Virtual_Data_Set_from_the_Lucd_Unified_Data_Space.ipynb\n",
    " - Setting up NiFi and Ingesting data is outside the scope of this tutorial.\n",
    "     - Refer to: https://community.lucd.ai/hc/en-us/articles/360038129271-NiFi-Configuration-v6-2-0"
   ]
  },
  {
   "cell_type": "markdown",
   "metadata": {},
   "source": [
    "## 1. Login to Platform, Visualize and Explore Data"
   ]
  },
  {
   "cell_type": "markdown",
   "metadata": {},
   "source": [
    " At the end of step 2, there should be a Lucd Client Icon loaded on your Desktop."
   ]
  },
  {
   "cell_type": "markdown",
   "metadata": {},
   "source": [
    "![](images/Lucd_3D_UI_Desktop_Shortcut.png)"
   ]
  },
  {
   "cell_type": "markdown",
   "metadata": {},
   "source": [
    "<img align=\"left\" src=\"images/Lucd_3D_UI_Desktop_Shortcut.png\" width=\"100\" />"
   ]
  },
  {
   "cell_type": "code",
   "execution_count": null,
   "metadata": {},
   "outputs": [],
   "source": []
  }
 ],
 "metadata": {
  "kernelspec": {
   "display_name": "Python 3",
   "language": "python",
   "name": "python3"
  },
  "language_info": {
   "codemirror_mode": {
    "name": "ipython",
    "version": 3
   },
   "file_extension": ".py",
   "mimetype": "text/x-python",
   "name": "python",
   "nbconvert_exporter": "python",
   "pygments_lexer": "ipython3",
   "version": "3.7.6"
  }
 },
 "nbformat": 4,
 "nbformat_minor": 4
}
