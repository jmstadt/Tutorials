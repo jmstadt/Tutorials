{
 "cells": [
  {
   "cell_type": "markdown",
   "metadata": {},
   "source": [
    "![](images/Capture2.JPG)"
   ]
  },
  {
   "cell_type": "markdown",
   "metadata": {},
   "source": [
    "#  <center> Tutorial: Data Science Tutorial Part 1 of 3 </center>"
   ]
  },
  {
   "cell_type": "markdown",
   "metadata": {},
   "source": [
    "## Background on Lucd"
   ]
  },
  {
   "cell_type": "markdown",
   "metadata": {},
   "source": [
    "The Lucd Enterprise AI Data Science Platform is a highly secure, scalable, open and flexible platform for persisting an fusing large and numerous datasets and training AI models for production against those datasets.\n",
    "The Lucd platform is an end to end platform that can be deployed in public cloud environments, on premise on bare metal hardware, or the Lucd multi-tenant PaaS can be directly accessed.  The platform consists of:\n",
    "\n",
    " - A scalable open data ingest capability\n",
    " - A petabyte scale unified data space data repository\n",
    " - 3-D Visualization and Exploration\n",
    " - An Exploratory Data Analysis Rest Service\n",
    " - A Kubernetes environment to train PyTorch and TensorFlow models\n",
    " - NLP Word Embedding and Explainable AI Assets\n",
    " - Model results visualization and exporting to internal or external serving capability"
   ]
  },
  {
   "cell_type": "markdown",
   "metadata": {},
   "source": [
    "![](images/Architecture1.png)"
   ]
  },
  {
   "cell_type": "markdown",
   "metadata": {},
   "source": [
    "## Introduction, Prerequisites"
   ]
  },
  {
   "cell_type": "markdown",
   "metadata": {},
   "source": [
    "This tutorial demonstrates the steps required to train an AI model on data leveraging the Lucd Data Science Platform.  The tutorial is a toy, leveraging the IRIS dataset, designed to show the basic steps to train a model.  In the example a Virtual Data Set is created, A custom operation adds a categorical feature to the existing continuous features.  Then a custom Pytorch model is developed and trained in the platform.  Both the Lucd 3D UI and the Lucd Python Client are leveraged during the tutorial.  The tutorial is brokein up into three Parts:\n",
    "1. __Part 1: Creating a Virtual Data Set (VDS)__\n",
    "2. Part 2: Performing a Custom Operation during Exploratory Data Analysis:  https://github.com/jmstadt/Tutorials/blob/master/Lucd_Part_2_of_3_Data_Science_Tutorial.ipynb\n",
    "3. Part 3: Developing a Custom AI Model and Training in the Lucd Platform\n",
    "\n",
    "Prerequisites are:\n",
    " - Deploying the Lucd Platform if required (the Lucd Platform can be deployed as a dedicated on premise or cloud instance or the Lucd PaaS can be accessed.\n",
    "     - This step is outside of scope for this tutorial.  For Deploying the platform, refer to:\n",
    "         - Lucd Infrastructure Requirements:  https://community.lucd.ai/hc/en-us/articles/360037762592-Infrastructure-Requirements-v6-2-0\n",
    "         - Lucd Deployment Guide:  https://community.lucd.ai/hc/en-us/articles/360037762792-Deployment-Guide-v6-2-0\n",
    "         - Create Security and Access Framework, Create User Account(s) \n",
    "\n",
    " - Obtaining a Lucd account with appropriate security settings to access/retrieve data.  Contact marketing@lucd.ai or refer to:\n",
    "     - https://community.lucd.ai/hc/en-us/articles/360037995531-Lucd-Client-STEAM-Installation-Guide-Lucd-Internal-\n",
    " - Obtaining the Lucd Python Client package (in the future pip install will be available).  For now, obtain by contacting marketing@lucd.ai\n",
    " - Downloading and installing a Jupyter notebook (this tutorial assumes that an Anaconda Jupyter notebook is used)\n",
    "     - Also refer to:  https://github.com/jmstadt/Tutorials/blob/master/Lucd_Pulling_a_Virtual_Data_Set_from_the_Lucd_Unified_Data_Space.ipynb\n",
    " - Setting up NiFi and Ingesting data is outside the scope of this tutorial.\n",
    "     - Refer to: https://community.lucd.ai/hc/en-us/articles/360038129271-NiFi-Configuration-v6-2-0"
   ]
  },
  {
   "cell_type": "markdown",
   "metadata": {},
   "source": [
    "## 1. Login to Platform, Visualize and Explore Data"
   ]
  },
  {
   "cell_type": "markdown",
   "metadata": {},
   "source": [
    " At the end of step 2, there should be a Lucd Client Icon loaded on your Desktop."
   ]
  },
  {
   "cell_type": "markdown",
   "metadata": {},
   "source": [
    "<img align=\"left\" src=\"images/Lucd_3D_UI_Desktop_Shortcut.png\" width=\"100\" />"
   ]
  },
  {
   "cell_type": "markdown",
   "metadata": {},
   "source": [
    "Double Click on the Shortcut, the following screen should appear:"
   ]
  },
  {
   "cell_type": "markdown",
   "metadata": {},
   "source": [
    "<img align=\"left\" src=\"images/Lucd_3D_UI_Logon_Screen.png\" width=\"400\" />"
   ]
  },
  {
   "cell_type": "markdown",
   "metadata": {},
   "source": [
    "Enter the Username, Password, and Domain that you obtained per the prerequisites. Then click LOGIN.  The following screen should appear.  Refresh the screen."
   ]
  },
  {
   "cell_type": "markdown",
   "metadata": {},
   "source": [
    "<img align=\"left\" src=\"images/Lucd_first_screen_after_logon.png\" width=\"600\" />"
   ]
  },
  {
   "cell_type": "markdown",
   "metadata": {},
   "source": [
    "A screen showing the datasets that were ingested (per the prerequisites from NiFi) will appear.  From this screen various cardinality of the datasets can be examined.  This is outside the scope of this tutorial but can refer to the Lucd User Guide: https://community.lucd.ai/hc/en-us/articles/360022853292-Lucd-Client-User-Guide"
   ]
  },
  {
   "cell_type": "markdown",
   "metadata": {},
   "source": [
    "<img align=\"left\" src=\"images/Lucd_Summary_Datasets.png\" width=\"600\" />"
   ]
  },
  {
   "cell_type": "markdown",
   "metadata": {},
   "source": [
    "It is outside the scope of this tutorial, but refer to the user guide for the many ways you can search on data in the Unified Data Space, visualize data, and perform transformation (Exploratory Data Analysis)"
   ]
  },
  {
   "cell_type": "markdown",
   "metadata": {},
   "source": [
    "I.e. Search on Data in the Unified Data Space:"
   ]
  },
  {
   "cell_type": "markdown",
   "metadata": {},
   "source": [
    "<img align=\"left\" src=\"images/Search.png\" width=\"600\" />"
   ]
  },
  {
   "cell_type": "markdown",
   "metadata": {},
   "source": [
    "I.e. Visualize the results of a Search:"
   ]
  },
  {
   "cell_type": "markdown",
   "metadata": {},
   "source": [
    "<img align=\"left\" src=\"images/Visualize.png\" width=\"600\" />"
   ]
  },
  {
   "cell_type": "markdown",
   "metadata": {},
   "source": [
    "I.e. Perform Transformations (Exploratory Data Analysis) on the results of a Search:"
   ]
  },
  {
   "cell_type": "markdown",
   "metadata": {},
   "source": [
    "<img align=\"left\" src=\"images/Transform.png\" width=\"600\" />"
   ]
  },
  {
   "cell_type": "markdown",
   "metadata": {},
   "source": [
    "## Step 2:  Create a Virtual Data Set (VDS)"
   ]
  },
  {
   "cell_type": "markdown",
   "metadata": {},
   "source": [
    "In this section we will create a VDS of the IRIS Dataset.  There are many different ways to search on data in the Lucd Unified Data Space, fuze and merge multiple datasets in the UI, and perform EDA operations, but for purposes of this tutorial we will just focus on creating a VDS from the IRIS Dataset.\n",
    "\n",
    "From the Home Screen, Select the \"Data\" tab"
   ]
  },
  {
   "cell_type": "markdown",
   "metadata": {},
   "source": [
    "<img align=\"left\" src=\"images/Select_Data_Tab.png\" width=\"600\" />"
   ]
  },
  {
   "cell_type": "markdown",
   "metadata": {},
   "source": [
    "For now, we will just search on the a particular source (the Iris Dataset).  Click on Sources"
   ]
  },
  {
   "cell_type": "markdown",
   "metadata": {},
   "source": [
    "<img align=\"left\" src=\"images/Click_on_Sources.png\" width=\"600\" />"
   ]
  },
  {
   "cell_type": "markdown",
   "metadata": {},
   "source": [
    "Select Iris and Click Search"
   ]
  },
  {
   "cell_type": "markdown",
   "metadata": {},
   "source": [
    "<img align=\"left\" src=\"images/Refresh_and_Select_Iris.png\" width=\"600\" />"
   ]
  },
  {
   "cell_type": "markdown",
   "metadata": {},
   "source": [
    "The following should result.  Click \"Transform\""
   ]
  },
  {
   "cell_type": "markdown",
   "metadata": {},
   "source": [
    "<img align=\"left\" src=\"images/Result_Iris_Click_Transform.png\" width=\"600\" />"
   ]
  },
  {
   "cell_type": "markdown",
   "metadata": {},
   "source": [
    "On the next screen, click add \"Add most recent search to the workspace\""
   ]
  },
  {
   "cell_type": "markdown",
   "metadata": {},
   "source": [
    "<img align=\"left\" src=\"images/Add_Eda_to_Workspace.png\" width=\"600\" />"
   ]
  },
  {
   "cell_type": "markdown",
   "metadata": {},
   "source": [
    "On the resulting screen, give the search a name, and select the green check box"
   ]
  },
  {
   "cell_type": "markdown",
   "metadata": {},
   "source": [
    "<img align=\"left\" src=\"images/Save_Search.png\" width=\"600\" />"
   ]
  },
  {
   "cell_type": "markdown",
   "metadata": {},
   "source": [
    "The Search will appear on the workspace.  Note:  There are many operations that can be performed on the saved search within the UI, but for now, we will just save the result as a VDS.\n",
    "\n",
    "Click on the Search and Select Save VDS:"
   ]
  },
  {
   "cell_type": "markdown",
   "metadata": {},
   "source": [
    "<img align=\"left\" src=\"images/Save_VDS.png\" width=\"600\" />"
   ]
  },
  {
   "cell_type": "markdown",
   "metadata": {},
   "source": [
    "Give the VDS a name and then click Select Data"
   ]
  },
  {
   "cell_type": "markdown",
   "metadata": {},
   "source": [
    "<img align=\"left\" src=\"images/Select_VDS_Data.png\" width=\"600\" />"
   ]
  },
  {
   "cell_type": "markdown",
   "metadata": {},
   "source": [
    "Typically when creating a VDS, it will be for use in Training an AI model.  So, the next screen is where features and labels are selected for AI training.  In this tutorial, we will be creating a custom operation first, but we will still select the features and labels and then hit the green check mark"
   ]
  },
  {
   "cell_type": "markdown",
   "metadata": {},
   "source": [
    "<img align=\"left\" src=\"images/Select_Features_Labels.png\" width=\"600\" />"
   ]
  },
  {
   "cell_type": "markdown",
   "metadata": {},
   "source": [
    "On the next popup, hit the green check mark again and the VDS should appear on the workspace"
   ]
  },
  {
   "cell_type": "markdown",
   "metadata": {},
   "source": [
    "<img align=\"left\" src=\"images/VDS_Workspace.png\" width=\"600\" />"
   ]
  },
  {
   "cell_type": "markdown",
   "metadata": {},
   "source": [
    "You can Verify that the VDS is saved as an Asset by clicking the Assets tab and then refreshing:"
   ]
  },
  {
   "cell_type": "markdown",
   "metadata": {},
   "source": [
    "<img align=\"left\" src=\"images/Assets_Tab.png\" width=\"600\" />"
   ]
  },
  {
   "cell_type": "markdown",
   "metadata": {},
   "source": [
    "The following should result:"
   ]
  },
  {
   "cell_type": "markdown",
   "metadata": {},
   "source": [
    "<img align=\"left\" src=\"images/VDS_in_Assets.png\" width=\"600\" />"
   ]
  },
  {
   "cell_type": "markdown",
   "metadata": {},
   "source": [
    "At this point, we have a VDS that is ready to train an AI model.  However, for the purposes of this tutorial, we are going to assume that we would like to create a \"helper\" column prior to training.  That \"helper\" column would be a a True False categorical column as to whether a particular row's \"Flower_Petal_Length\" is greater than the mean of all the entire VDS Flower Petal Length.  This operation is currently not available as a Standard UI EDA Operation.  So, we will have to create a Custom EDA Operation Leveraging the Lucd Python Client.  For this, we will go to Part_2 of this tutorial"
   ]
  },
  {
   "cell_type": "code",
   "execution_count": null,
   "metadata": {},
   "outputs": [],
   "source": []
  }
 ],
 "metadata": {
  "kernelspec": {
   "display_name": "Python 3",
   "language": "python",
   "name": "python3"
  },
  "language_info": {
   "codemirror_mode": {
    "name": "ipython",
    "version": 3
   },
   "file_extension": ".py",
   "mimetype": "text/x-python",
   "name": "python",
   "nbconvert_exporter": "python",
   "pygments_lexer": "ipython3",
   "version": "3.7.6"
  }
 },
 "nbformat": 4,
 "nbformat_minor": 4
}
