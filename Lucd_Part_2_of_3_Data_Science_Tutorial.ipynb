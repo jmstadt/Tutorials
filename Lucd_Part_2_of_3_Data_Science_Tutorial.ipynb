{
 "cells": [
  {
   "cell_type": "markdown",
   "metadata": {},
   "source": [
    "![](images/Capture2.JPG)"
   ]
  },
  {
   "cell_type": "markdown",
   "metadata": {},
   "source": [
    "#  <center> Tutorial: Data Science Tutorial Part 2 of 3 </center>"
   ]
  },
  {
   "cell_type": "markdown",
   "metadata": {},
   "source": [
    "## Background on Lucd"
   ]
  },
  {
   "cell_type": "markdown",
   "metadata": {},
   "source": [
    "The Lucd Enterprise AI Data Science Platform is a highly secure, scalable, open and flexible platform for persisting an fusing large and numerous datasets and training AI models for production against those datasets.\n",
    "The Lucd platform is an end to end platform that can be deployed in public cloud environments, on premise on bare metal hardware, or the Lucd multi-tenant PaaS can be directly accessed.  The platform consists of:\n",
    "\n",
    " - A scalable open data ingest capability\n",
    " - A petabyte scale unified data space data repository\n",
    " - 3-D Visualization and Exploration\n",
    " - An Exploratory Data Analysis Rest Service\n",
    " - A Kubernetes environment to train PyTorch and TensorFlow models\n",
    " - NLP Word Embedding and Explainable AI Assets\n",
    " - Model results visualization and exporting to internal or external serving capability"
   ]
  },
  {
   "cell_type": "markdown",
   "metadata": {},
   "source": [
    "![](images/Architecture1.png)"
   ]
  },
  {
   "cell_type": "markdown",
   "metadata": {},
   "source": [
    "## Introduction, Prerequisites"
   ]
  },
  {
   "cell_type": "markdown",
   "metadata": {},
   "source": [
    "This tutorial demonstrates the steps required to train an AI model on data leveraging the Lucd Data Science Platform.  The tutorial is a toy, leveraging the IRIS dataset, designed to show the basic steps to train a model.  In the example a Virtual Data Set is created, A custom operation adds a categorical feature to the existing continuous features.  Then a custom Pytorch model is developed and trained in the platform.  Both the Lucd 3D UI and the Lucd Python Client are leveraged during the tutorial.  The tutorial is brokein up into three Parts:\n",
    "1. Part 1: Creating a Virtual Data Set (VDS) https://github.com/jmstadt/Tutorials/blob/master/Lucd_Part_1_of_3_Data_Science_Tutorial.ipynb\n",
    "2. __Part 2: Performing a Custom Operation during Exploratory Data Analysis__\n",
    "3. Part 3: Developing a Custom AI Model and Training in the Lucd Platform\n",
    "\n",
    "Prerequisites are:\n",
    " - Deploying the Lucd Platform if required (the Lucd Platform can be deployed as a dedicated on premise or cloud instance or the Lucd PaaS can be accessed.\n",
    "     - This step is outside of scope for this tutorial.  For Deploying the platform, refer to:\n",
    "         - Lucd Infrastructure Requirements:  https://community.lucd.ai/hc/en-us/articles/360037762592-Infrastructure-Requirements-v6-2-0\n",
    "         - Lucd Deployment Guide:  https://community.lucd.ai/hc/en-us/articles/360037762792-Deployment-Guide-v6-2-0\n",
    "         - Create Security and Access Framework, Create User Account(s) \n",
    "\n",
    " - Obtaining a Lucd account with appropriate security settings to access/retrieve data.  Contact marketing@lucd.ai or refer to:\n",
    "     - https://community.lucd.ai/hc/en-us/articles/360037995531-Lucd-Client-STEAM-Installation-Guide-Lucd-Internal-\n",
    " - Obtaining the Lucd Python Client package (in the future pip install will be available).  For now, obtain by contacting marketing@lucd.ai\n",
    " - Downloading and installing a Jupyter notebook (this tutorial assumes that an Anaconda Jupyter notebook is used)\n",
    "     - Also refer to:  https://github.com/jmstadt/Tutorials/blob/master/Lucd_Pulling_a_Virtual_Data_Set_from_the_Lucd_Unified_Data_Space.ipynb\n",
    " - Setting up NiFi and Ingesting data is outside the scope of this tutorial.\n",
    "     - Refer to: https://community.lucd.ai/hc/en-us/articles/360038129271-NiFi-Configuration-v6-2-0"
   ]
  },
  {
   "cell_type": "markdown",
   "metadata": {},
   "source": [
    "## 1. Complete Part 1 of 3"
   ]
  },
  {
   "cell_type": "markdown",
   "metadata": {},
   "source": [
    " At the end of Part 1 https://github.com/jmstadt/Tutorials/blob/master/Lucd_Part_1_of_3_Data_Science_Tutorial.ipynb, we have a Virtual Data Set (VDS) that we can query with the Lucd Python Client.  If you are unfamilar with leveraging the Lucd Python Client to access a VDS, refer to the following Tutorial https://github.com/jmstadt/Tutorials/blob/master/Lucd_Pulling_a_Virtual_Data_Set_from_the_Lucd_Unified_Data_Space.ipynb"
   ]
  },
  {
   "cell_type": "markdown",
   "metadata": {},
   "source": [
    "## 2. Create, Test, and Upload the Custom Operation in the Lucd Python Client"
   ]
  },
  {
   "cell_type": "markdown",
   "metadata": {},
   "source": [
    "Detailed Instructions for creating a custom operation can be found here:  https://gitlab.lucd.ai/lucd/mock-product-development/lucd-python-package/-/wikis/Lucd-Python-Library:-Custom-Feature-Engineering"
   ]
  },
  {
   "cell_type": "code",
   "execution_count": 1,
   "metadata": {},
   "outputs": [],
   "source": [
    "import lucd\n",
    "from eda.lib import lucd_uds"
   ]
  },
  {
   "cell_type": "markdown",
   "metadata": {},
   "source": [
    "login to the Lucd Enterprie AI Platform with the same credentials you used in Part 1"
   ]
  },
  {
   "cell_type": "code",
   "execution_count": 2,
   "metadata": {},
   "outputs": [],
   "source": [
    "client = lucd.LucdClient(domain=\"<your domain>\",\n",
    "                         username=\"<your username>\",\n",
    "                         password=\"<your password>\",\n",
    "                         )"
   ]
  },
  {
   "cell_type": "markdown",
   "metadata": {},
   "source": [
    "Refer to the following tutorial to get the VDS ID of the VDS you created in part 1:  https://github.com/jmstadt/Tutorials/blob/master/Lucd_Pulling_a_Virtual_Data_Set_from_the_Lucd_Unified_Data_Space.ipynb"
   ]
  },
  {
   "cell_type": "markdown",
   "metadata": {},
   "source": [
    "Or alternatively, From Part 1, in the Assets tab, you can double click on the VDS you created and the Id will be saved to your clipboard to paste"
   ]
  },
  {
   "cell_type": "markdown",
   "metadata": {},
   "source": [
    "<img align=\"left\" src=\"images/VDS-ID.png\" width=\"600\" />"
   ]
  },
  {
   "cell_type": "markdown",
   "metadata": {},
   "source": [
    "Read the VDS into a local Dask Dataframe.  Note:  We are limiting the size as we are just using this data to verify that the custom operation will work.  We will use the custom operation on the full VDS from the UI below"
   ]
  },
  {
   "cell_type": "code",
   "execution_count": 4,
   "metadata": {},
   "outputs": [
    {
     "name": "stderr",
     "output_type": "stream",
     "text": [
      "2020-04-19 16:34:04,617 | root | INFO | dask.py:28 | Creating Dask LocalCluster: http://localhost:60000/status\n"
     ]
    }
   ],
   "source": [
    "df = lucd_uds.get_dataframe(\"demo_9223370449703500951\", limit=100).reset_index(drop=True)"
   ]
  },
  {
   "cell_type": "code",
   "execution_count": 5,
   "metadata": {},
   "outputs": [
    {
     "data": {
      "text/html": [
       "<div>\n",
       "<style scoped>\n",
       "    .dataframe tbody tr th:only-of-type {\n",
       "        vertical-align: middle;\n",
       "    }\n",
       "\n",
       "    .dataframe tbody tr th {\n",
       "        vertical-align: top;\n",
       "    }\n",
       "\n",
       "    .dataframe thead th {\n",
       "        text-align: right;\n",
       "    }\n",
       "</style>\n",
       "<table border=\"1\" class=\"dataframe\">\n",
       "  <thead>\n",
       "    <tr style=\"text-align: right;\">\n",
       "      <th></th>\n",
       "      <th>flower.petal_length</th>\n",
       "      <th>flower.petal_width</th>\n",
       "      <th>flower.sepal_length</th>\n",
       "      <th>flower.sepal_width</th>\n",
       "      <th>flower.species</th>\n",
       "      <th>flower_mean</th>\n",
       "      <th>std.display</th>\n",
       "      <th>std.model</th>\n",
       "      <th>std.source</th>\n",
       "      <th>std.timestamp</th>\n",
       "    </tr>\n",
       "  </thead>\n",
       "  <tbody>\n",
       "    <tr>\n",
       "      <td>0</td>\n",
       "      <td>1.4</td>\n",
       "      <td>0.2</td>\n",
       "      <td>5.1</td>\n",
       "      <td>3.5</td>\n",
       "      <td>I. setosa</td>\n",
       "      <td>False</td>\n",
       "      <td>species: I. setosa</td>\n",
       "      <td>flower</td>\n",
       "      <td>IRIS</td>\n",
       "      <td>1574175988109</td>\n",
       "    </tr>\n",
       "    <tr>\n",
       "      <td>1</td>\n",
       "      <td>1.5</td>\n",
       "      <td>0.1</td>\n",
       "      <td>4.9</td>\n",
       "      <td>3.1</td>\n",
       "      <td>I. setosa</td>\n",
       "      <td>False</td>\n",
       "      <td>species: I. setosa</td>\n",
       "      <td>flower</td>\n",
       "      <td>IRIS</td>\n",
       "      <td>1574175988110</td>\n",
       "    </tr>\n",
       "    <tr>\n",
       "      <td>2</td>\n",
       "      <td>5.6</td>\n",
       "      <td>2.2</td>\n",
       "      <td>6.4</td>\n",
       "      <td>2.8</td>\n",
       "      <td>I. virginica</td>\n",
       "      <td>True</td>\n",
       "      <td>species: I. virginica</td>\n",
       "      <td>flower</td>\n",
       "      <td>IRIS</td>\n",
       "      <td>1574175988112</td>\n",
       "    </tr>\n",
       "    <tr>\n",
       "      <td>3</td>\n",
       "      <td>5.1</td>\n",
       "      <td>2.0</td>\n",
       "      <td>6.5</td>\n",
       "      <td>3.2</td>\n",
       "      <td>I. virginica</td>\n",
       "      <td>False</td>\n",
       "      <td>species: I. virginica</td>\n",
       "      <td>flower</td>\n",
       "      <td>IRIS</td>\n",
       "      <td>1574175988112</td>\n",
       "    </tr>\n",
       "    <tr>\n",
       "      <td>4</td>\n",
       "      <td>6.6</td>\n",
       "      <td>2.1</td>\n",
       "      <td>7.6</td>\n",
       "      <td>3.0</td>\n",
       "      <td>I. virginica</td>\n",
       "      <td>True</td>\n",
       "      <td>species: I. virginica</td>\n",
       "      <td>flower</td>\n",
       "      <td>IRIS</td>\n",
       "      <td>1574175988112</td>\n",
       "    </tr>\n",
       "  </tbody>\n",
       "</table>\n",
       "</div>"
      ],
      "text/plain": [
       "   flower.petal_length  flower.petal_width  flower.sepal_length  \\\n",
       "0                  1.4                 0.2                  5.1   \n",
       "1                  1.5                 0.1                  4.9   \n",
       "2                  5.6                 2.2                  6.4   \n",
       "3                  5.1                 2.0                  6.5   \n",
       "4                  6.6                 2.1                  7.6   \n",
       "\n",
       "   flower.sepal_width flower.species  flower_mean            std.display  \\\n",
       "0                 3.5      I. setosa        False     species: I. setosa   \n",
       "1                 3.1      I. setosa        False     species: I. setosa   \n",
       "2                 2.8   I. virginica         True  species: I. virginica   \n",
       "3                 3.2   I. virginica        False  species: I. virginica   \n",
       "4                 3.0   I. virginica         True  species: I. virginica   \n",
       "\n",
       "  std.model std.source  std.timestamp  \n",
       "0    flower       IRIS  1574175988109  \n",
       "1    flower       IRIS  1574175988110  \n",
       "2    flower       IRIS  1574175988112  \n",
       "3    flower       IRIS  1574175988112  \n",
       "4    flower       IRIS  1574175988112  "
      ]
     },
     "execution_count": 5,
     "metadata": {},
     "output_type": "execute_result"
    }
   ],
   "source": [
    "df.head()"
   ]
  },
  {
   "cell_type": "markdown",
   "metadata": {},
   "source": [
    "Create a custom operatio\n",
    "\n",
    "Per this Tutorial, we want to create a new boolean column as to whether petal length is greater than the mean petal length\n",
    "\n",
    "You can experiment in your notebook until you get what you want.  The resultant custom operation will be a function such as the following:"
   ]
  },
  {
   "cell_type": "code",
   "execution_count": 7,
   "metadata": {},
   "outputs": [],
   "source": [
    "def create_greater_than_mean_column(df):\n",
    "    column_mean = df[\"flower.petal_length\"].mean()\n",
    "    new_col=df[\"flower.petal_length\"] > column_mean\n",
    "    df = df.assign(flower_mean=new_col)\n",
    "    return df"
   ]
  },
  {
   "cell_type": "markdown",
   "metadata": {},
   "source": [
    "You can verify that the custom operation works locally"
   ]
  },
  {
   "cell_type": "code",
   "execution_count": 8,
   "metadata": {},
   "outputs": [],
   "source": [
    "new_df = df.map_partitions(create_greater_than_mean_column)"
   ]
  },
  {
   "cell_type": "markdown",
   "metadata": {},
   "source": [
    "As you can see by calling .head() there is a new \"flower_mean\" column in your local dataframe"
   ]
  },
  {
   "cell_type": "code",
   "execution_count": 9,
   "metadata": {},
   "outputs": [
    {
     "data": {
      "text/html": [
       "<div>\n",
       "<style scoped>\n",
       "    .dataframe tbody tr th:only-of-type {\n",
       "        vertical-align: middle;\n",
       "    }\n",
       "\n",
       "    .dataframe tbody tr th {\n",
       "        vertical-align: top;\n",
       "    }\n",
       "\n",
       "    .dataframe thead th {\n",
       "        text-align: right;\n",
       "    }\n",
       "</style>\n",
       "<table border=\"1\" class=\"dataframe\">\n",
       "  <thead>\n",
       "    <tr style=\"text-align: right;\">\n",
       "      <th></th>\n",
       "      <th>flower.petal_length</th>\n",
       "      <th>flower.petal_width</th>\n",
       "      <th>flower.sepal_length</th>\n",
       "      <th>flower.sepal_width</th>\n",
       "      <th>flower.species</th>\n",
       "      <th>flower_mean</th>\n",
       "      <th>std.display</th>\n",
       "      <th>std.model</th>\n",
       "      <th>std.source</th>\n",
       "      <th>std.timestamp</th>\n",
       "    </tr>\n",
       "  </thead>\n",
       "  <tbody>\n",
       "    <tr>\n",
       "      <td>0</td>\n",
       "      <td>1.4</td>\n",
       "      <td>0.2</td>\n",
       "      <td>5.1</td>\n",
       "      <td>3.5</td>\n",
       "      <td>I. setosa</td>\n",
       "      <td>False</td>\n",
       "      <td>species: I. setosa</td>\n",
       "      <td>flower</td>\n",
       "      <td>IRIS</td>\n",
       "      <td>1574175988109</td>\n",
       "    </tr>\n",
       "    <tr>\n",
       "      <td>1</td>\n",
       "      <td>1.5</td>\n",
       "      <td>0.1</td>\n",
       "      <td>4.9</td>\n",
       "      <td>3.1</td>\n",
       "      <td>I. setosa</td>\n",
       "      <td>False</td>\n",
       "      <td>species: I. setosa</td>\n",
       "      <td>flower</td>\n",
       "      <td>IRIS</td>\n",
       "      <td>1574175988110</td>\n",
       "    </tr>\n",
       "    <tr>\n",
       "      <td>2</td>\n",
       "      <td>5.6</td>\n",
       "      <td>2.2</td>\n",
       "      <td>6.4</td>\n",
       "      <td>2.8</td>\n",
       "      <td>I. virginica</td>\n",
       "      <td>True</td>\n",
       "      <td>species: I. virginica</td>\n",
       "      <td>flower</td>\n",
       "      <td>IRIS</td>\n",
       "      <td>1574175988112</td>\n",
       "    </tr>\n",
       "    <tr>\n",
       "      <td>3</td>\n",
       "      <td>5.1</td>\n",
       "      <td>2.0</td>\n",
       "      <td>6.5</td>\n",
       "      <td>3.2</td>\n",
       "      <td>I. virginica</td>\n",
       "      <td>True</td>\n",
       "      <td>species: I. virginica</td>\n",
       "      <td>flower</td>\n",
       "      <td>IRIS</td>\n",
       "      <td>1574175988112</td>\n",
       "    </tr>\n",
       "    <tr>\n",
       "      <td>4</td>\n",
       "      <td>6.6</td>\n",
       "      <td>2.1</td>\n",
       "      <td>7.6</td>\n",
       "      <td>3.0</td>\n",
       "      <td>I. virginica</td>\n",
       "      <td>True</td>\n",
       "      <td>species: I. virginica</td>\n",
       "      <td>flower</td>\n",
       "      <td>IRIS</td>\n",
       "      <td>1574175988112</td>\n",
       "    </tr>\n",
       "  </tbody>\n",
       "</table>\n",
       "</div>"
      ],
      "text/plain": [
       "   flower.petal_length  flower.petal_width  flower.sepal_length  \\\n",
       "0                  1.4                 0.2                  5.1   \n",
       "1                  1.5                 0.1                  4.9   \n",
       "2                  5.6                 2.2                  6.4   \n",
       "3                  5.1                 2.0                  6.5   \n",
       "4                  6.6                 2.1                  7.6   \n",
       "\n",
       "   flower.sepal_width flower.species  flower_mean            std.display  \\\n",
       "0                 3.5      I. setosa        False     species: I. setosa   \n",
       "1                 3.1      I. setosa        False     species: I. setosa   \n",
       "2                 2.8   I. virginica         True  species: I. virginica   \n",
       "3                 3.2   I. virginica         True  species: I. virginica   \n",
       "4                 3.0   I. virginica         True  species: I. virginica   \n",
       "\n",
       "  std.model std.source  std.timestamp  \n",
       "0    flower       IRIS  1574175988109  \n",
       "1    flower       IRIS  1574175988110  \n",
       "2    flower       IRIS  1574175988112  \n",
       "3    flower       IRIS  1574175988112  \n",
       "4    flower       IRIS  1574175988112  "
      ]
     },
     "execution_count": 9,
     "metadata": {},
     "output_type": "execute_result"
    }
   ],
   "source": [
    "new_df.head()"
   ]
  },
  {
   "cell_type": "markdown",
   "metadata": {},
   "source": [
    "Now upload this custom operation to the Lucd platform:"
   ]
  },
  {
   "cell_type": "code",
   "execution_count": null,
   "metadata": {},
   "outputs": [],
   "source": [
    "from eda.int import custom_operation\n",
    "\n",
    "data = {\n",
    "        \"operation_name\": \"create_greater_than_mean_column\",\n",
    "        \"author_name\": \"<your name>\",\n",
    "        \"author_email\": \"<your email>\",\n",
    "        \"operation_description\": \"<your description>\",\n",
    "        \"operation_purpose\": \"<your purpose>\",\n",
    "        \"operation_features\": [\"flower.petal_length\"],\n",
    "        \"operation_function\": create_greater_than_mean_column\n",
    "}\n",
    "\n",
    "response_json, rv = custom_operation.create(data)"
   ]
  },
  {
   "cell_type": "markdown",
   "metadata": {},
   "source": [
    "## 3. Perform Your Custom Operation in the Lucd UI"
   ]
  },
  {
   "cell_type": "markdown",
   "metadata": {},
   "source": [
    "Now, go back to the UI and the search you saved, click on the saved search and select new op"
   ]
  },
  {
   "cell_type": "markdown",
   "metadata": {},
   "source": [
    "<img align=\"left\" src=\"images/New_Op.png\" width=\"600\" />"
   ]
  },
  {
   "cell_type": "markdown",
   "metadata": {},
   "source": [
    "In the next screen select custom operation, you should see the custom operation that you created above.  Click on it and you can see the code.  In the Apply Method selection, select \"Map_Partitions\" because this is an operation on the full dataframe.  For other operations row wise operations you would select Apply.  Click the green check mark"
   ]
  },
  {
   "cell_type": "markdown",
   "metadata": {},
   "source": [
    "<img align=\"left\" src=\"images/Add_Custom_Operation.png\" width=\"600\" />"
   ]
  },
  {
   "cell_type": "markdown",
   "metadata": {},
   "source": [
    "You will see the new custom operation added as a fork to the saved search"
   ]
  },
  {
   "cell_type": "markdown",
   "metadata": {},
   "source": [
    "<img align=\"left\" src=\"images/Forked_Custom_Op.png\" width=\"600\" />"
   ]
  },
  {
   "cell_type": "markdown",
   "metadata": {},
   "source": [
    "As in Part 1, you can give save this new VDS giving it a name"
   ]
  },
  {
   "cell_type": "markdown",
   "metadata": {},
   "source": [
    "<img align=\"left\" src=\"images/New_VDS.png\" width=\"600\" />"
   ]
  },
  {
   "cell_type": "markdown",
   "metadata": {},
   "source": [
    "Per the above, from the Assets tab, you can copy that new vds id to your clipboard and pull that new VDS into your local notebook"
   ]
  },
  {
   "cell_type": "code",
   "execution_count": 14,
   "metadata": {},
   "outputs": [],
   "source": [
    "custom_op_df = lucd_uds.get_dataframe(\"demo_9223370449524874138\", limit=100).reset_index(drop=True)"
   ]
  },
  {
   "cell_type": "markdown",
   "metadata": {},
   "source": [
    "As you can see by calling .head() on the new dataframe, there is now a new \"flower_mean\" column per your custom operation"
   ]
  },
  {
   "cell_type": "code",
   "execution_count": 15,
   "metadata": {},
   "outputs": [
    {
     "data": {
      "text/html": [
       "<div>\n",
       "<style scoped>\n",
       "    .dataframe tbody tr th:only-of-type {\n",
       "        vertical-align: middle;\n",
       "    }\n",
       "\n",
       "    .dataframe tbody tr th {\n",
       "        vertical-align: top;\n",
       "    }\n",
       "\n",
       "    .dataframe thead th {\n",
       "        text-align: right;\n",
       "    }\n",
       "</style>\n",
       "<table border=\"1\" class=\"dataframe\">\n",
       "  <thead>\n",
       "    <tr style=\"text-align: right;\">\n",
       "      <th></th>\n",
       "      <th>flower.petal_length</th>\n",
       "      <th>flower.petal_width</th>\n",
       "      <th>flower.sepal_length</th>\n",
       "      <th>flower.sepal_width</th>\n",
       "      <th>flower.species</th>\n",
       "      <th>flower_mean</th>\n",
       "    </tr>\n",
       "  </thead>\n",
       "  <tbody>\n",
       "    <tr>\n",
       "      <td>0</td>\n",
       "      <td>4.1</td>\n",
       "      <td>1.3</td>\n",
       "      <td>5.7</td>\n",
       "      <td>2.8</td>\n",
       "      <td>I. versicolor</td>\n",
       "      <td>False</td>\n",
       "    </tr>\n",
       "    <tr>\n",
       "      <td>1</td>\n",
       "      <td>1.5</td>\n",
       "      <td>0.1</td>\n",
       "      <td>4.9</td>\n",
       "      <td>3.1</td>\n",
       "      <td>I. setosa</td>\n",
       "      <td>False</td>\n",
       "    </tr>\n",
       "    <tr>\n",
       "      <td>2</td>\n",
       "      <td>5.6</td>\n",
       "      <td>1.4</td>\n",
       "      <td>6.1</td>\n",
       "      <td>2.6</td>\n",
       "      <td>I. virginica</td>\n",
       "      <td>True</td>\n",
       "    </tr>\n",
       "    <tr>\n",
       "      <td>3</td>\n",
       "      <td>5.7</td>\n",
       "      <td>2.3</td>\n",
       "      <td>6.9</td>\n",
       "      <td>3.2</td>\n",
       "      <td>I. virginica</td>\n",
       "      <td>True</td>\n",
       "    </tr>\n",
       "    <tr>\n",
       "      <td>4</td>\n",
       "      <td>6.6</td>\n",
       "      <td>2.1</td>\n",
       "      <td>7.6</td>\n",
       "      <td>3.0</td>\n",
       "      <td>I. virginica</td>\n",
       "      <td>True</td>\n",
       "    </tr>\n",
       "  </tbody>\n",
       "</table>\n",
       "</div>"
      ],
      "text/plain": [
       "   flower.petal_length  flower.petal_width  flower.sepal_length  \\\n",
       "0                  4.1                 1.3                  5.7   \n",
       "1                  1.5                 0.1                  4.9   \n",
       "2                  5.6                 1.4                  6.1   \n",
       "3                  5.7                 2.3                  6.9   \n",
       "4                  6.6                 2.1                  7.6   \n",
       "\n",
       "   flower.sepal_width flower.species  flower_mean  \n",
       "0                 2.8  I. versicolor        False  \n",
       "1                 3.1      I. setosa        False  \n",
       "2                 2.6   I. virginica         True  \n",
       "3                 3.2   I. virginica         True  \n",
       "4                 3.0   I. virginica         True  "
      ]
     },
     "execution_count": 15,
     "metadata": {},
     "output_type": "execute_result"
    }
   ],
   "source": [
    "custom_op_df.head()"
   ]
  },
  {
   "cell_type": "markdown",
   "metadata": {},
   "source": [
    "This completes part 2 of this Tutorial.  In Part 3, we will use that new dataframe that we created to create and train a model to predict Flower Species.  We will use the continuous columns that were in the existing dataframe as well as the categorical column we created with our custom operation"
   ]
  },
  {
   "cell_type": "code",
   "execution_count": null,
   "metadata": {},
   "outputs": [],
   "source": []
  }
 ],
 "metadata": {
  "kernelspec": {
   "display_name": "Python 3",
   "language": "python",
   "name": "python3"
  },
  "language_info": {
   "codemirror_mode": {
    "name": "ipython",
    "version": 3
   },
   "file_extension": ".py",
   "mimetype": "text/x-python",
   "name": "python",
   "nbconvert_exporter": "python",
   "pygments_lexer": "ipython3",
   "version": "3.7.6"
  }
 },
 "nbformat": 4,
 "nbformat_minor": 4
}
