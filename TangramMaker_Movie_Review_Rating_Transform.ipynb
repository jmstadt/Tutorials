{
 "cells": [
  {
   "cell_type": "markdown",
   "metadata": {},
   "source": [
    "![](images/TangramMakerLogo.png)"
   ]
  },
  {
   "cell_type": "markdown",
   "metadata": {},
   "source": [
    "# <center> Movie Review Rating Transform Toy Project </center>"
   ]
  },
  {
   "cell_type": "markdown",
   "metadata": {},
   "source": [
    "### Background for this project"
   ]
  },
  {
   "cell_type": "markdown",
   "metadata": {},
   "source": [
    "[Tangram Flex](https://www.tangramflex.com) produces a specification language called \"Flex\".  Flex allows you to define interface standards/interface control documents (ICDs) that can directly be linked to code.  In addtion, Flex allows you to define transforms between different types of interfaces and these transforms are also linked to code. This code is typically used in embedded systems to provide messaging apis between software components.  You can read about the benefits of Flex [here](https://assets.website-files.com/5f203955af96993dab25b732/622f4f4b5271725653b903ae_WhyFlex_PublicWhitepaperv1.pdf) "
   ]
  },
  {
   "cell_type": "markdown",
   "metadata": {},
   "source": [
    "When people are learning to train AI models, one of the first things they learn is how to leverage Natural Language Processing (NLP) to train an AI model that can accurately predict sentiment in free text.  The often used dataset to learn to train a sentiment analysis model is the [imdb dataset](https://www.kaggle.com/datasets/lakshmi25npathi/imdb-dataset-of-50k-movie-reviews) of 50,000 free text movie reviews each labeled with a \"Positive\" or a \"Negative\" label.  AI Practitioners use the free text and the labels to train a model.  How that is done is outside the scope of this project but for those interested I would point to the [fastai course lesson on sentiment analysis](https://www.github.com/fastai/course-v3/blob/master/nbs/dl1/lesson3-imdb.ipynb) Note: the fastai course gives recommendations on how to leverage a GPU which you would need to train this model.  Also, using the model is outside the scope as well.  However, here is a [link](https://www.github.com/jmstadt/flask-movie-reviews) that describes how I hosted a trained model to take in free text and return the sentiment for movies leveraging the render hosting site."
   ]
  },
  {
   "cell_type": "markdown",
   "metadata": {},
   "source": [
    "Kaggle also produces a [movie reveiw dataset](https://www.kaggle.com/datasets/rounakbanik/the-movies-dataset).  This is a tabular dataset and the label ratings go from 1 to 5.  AI experimenters often want to leverage different datasets in projects.  I.e. leveraging the kaggle dataset data to improve the IMDB model.  In order to do this, the practitioner needs to write a transform from the Kaggle 1 to 5 labels to the IMDB Positive/Negative labels."
   ]
  },
  {
   "cell_type": "markdown",
   "metadata": {},
   "source": [
    "Typically, an AI Practitioner would hand code a transformation.  However this can become problematic.  In particular for Kaggle to IMDB, most people would transform the 1 and 2 labels to negative and the 4 and 5 labels to positive.  But, what about the 3 label?  Different coders might make different choices that can result in different behavior in trained AI models.  In addition, you would have to review their code to try and see what they did.  "
   ]
  },
  {
   "cell_type": "markdown",
   "metadata": {},
   "source": [
    "But, what if there was a documented standard way of performing this transform?  And rather than reviewing this standard, you could call that standard from code.  Providing this is the purpose of this toy project.  I will create a standard for this transform in Flex.  I will then leverage Tangram Maker to generate code for this transform.  Then, within this notebook, I will call this code to transform a Kaggle Rating Label to an IMDB Rating Label that is peformed per the standard.\n",
    "\n",
    "**So let's get started!  The following steps will walk you through**"
   ]
  },
  {
   "cell_type": "markdown",
   "metadata": {},
   "source": [
    "### Get a Free Tangram Maker Account so you can author your Flex standard"
   ]
  },
  {
   "cell_type": "markdown",
   "metadata": {},
   "source": [
    "Sign up for a free Tangram Maker account [here](https://www.tangramflex.com/tangram-maker.  Once you have your login information, you can access Tangram Maker at https://maker.tangramflex.io."
   ]
  },
  {
   "cell_type": "markdown",
   "metadata": {},
   "source": [
    "<img src=\"images/TangramMakerLogin.png\" width =\"400\"/>"
   ]
  },
  {
   "cell_type": "markdown",
   "metadata": {},
   "source": [
    "Once logged in, you can review docs and tutorials at https://docs.tangramflex.io/docs/tutorials/what_is_tangrampro.  Note:  Tangram Maker is the free version of Tangram Pro and the tutorials for Tangram Maker apply to Tangram Pro."
   ]
  },
  {
   "cell_type": "markdown",
   "metadata": {},
   "source": [
    "### Author The Kaggle Rating to IMDB Rating Standard Transform in Flex"
   ]
  },
  {
   "cell_type": "markdown",
   "metadata": {},
   "source": [
    "The required flex interfaces and transform code is provided in this repositories **SupportingCode folder**.  You can use this code by copying and pasting into the Tangram Maker Flex Editor and the Author a Message Set with Flex Tutorial here: https://docs.tangramflex.io/docs/tutorials/flex_authorship.  For more details on authoring flex go to: https://docs.tangramflex.io/docs/flex/start.  Note: You can view or edit a .flex file in any text editor."
   ]
  },
  {
   "cell_type": "markdown",
   "metadata": {},
   "source": [
    "The resulting directory structure should like as follows in Tangram Maker.  Note:  Tangram Maker automatically increments published message packages when you edit them.  I edited my first Kaggle interface definition twice so I am at version v3.  And at version v2 for IMDB.  Note your versions as this is used in the Transform as well as the resulting generated code"
   ]
  },
  {
   "cell_type": "markdown",
   "metadata": {},
   "source": [
    "<img src=\"images/MakerMoviesFlexDirectoryStructure.png\" width=\"400\"/>"
   ]
  },
  {
   "cell_type": "markdown",
   "metadata": {},
   "source": [
    "The Transform and the Interfaces will look as follows:"
   ]
  },
  {
   "cell_type": "markdown",
   "metadata": {},
   "source": [
    "<img src=\"images/MakerFlexOneToFiveReview.png\" width=\"200\"/>\n",
    "<img src=\"images/MakerFlexPosNegReview.png\" width=\"200\"/>\n",
    "<img src=\"images/MakerFlexKaggleToIMDBTransform.png\" width=\"200\"/>"
   ]
  },
  {
   "cell_type": "markdown",
   "metadata": {},
   "source": [
    "One of the great things in Tangram Maker is that it allows you to visualize your transform as a model.  Most people want to model capabilities these days and Tangram Maker allows you to visualize your flex code.  It is really easy to do in Tangram Maker.  Lets see if you can do it.  For hints you can go to https://docs.tangramflex.io/docs/tutorials/visualize_a_Component_based_system_design.  When you are done, the model should look something like the below.  Note, if you don't get there, see the next step and it will show you how."
   ]
  },
  {
   "cell_type": "markdown",
   "metadata": {},
   "source": [
    "<img src=\"images/MakerKaggleToIMDBTransformDesign.png\" width=\"400\"/>"
   ]
  },
  {
   "cell_type": "markdown",
   "metadata": {},
   "source": [
    "### Generate Usable Code from the Standard Transform you created"
   ]
  },
  {
   "cell_type": "markdown",
   "metadata": {},
   "source": [
    "OK, great.  We have created our standard, now let's put it to use.  Tangram Maker allows you to generate code from a model.  On the following link https://docs.tangramflex.io/docs/tutorials/implement_transform.  Go through Step 1, you may have already did that.  Then Step 2.  Then skip Step 3.  Then only do the second part of Step 4.  That will get you output code to download. You should see the following when you set up your workflow and your code gen in Maker."
   ]
  },
  {
   "cell_type": "markdown",
   "metadata": {},
   "source": [
    "<img src=\"images/MakerWorkflow.png\" width=\"200\"/>\n",
    "<img src=\"images/MakerCodeGen.png\" width=\"200\"/>"
   ]
  },
  {
   "cell_type": "markdown",
   "metadata": {},
   "source": [
    "When you download your code the directory structure should look as follows:"
   ]
  },
  {
   "cell_type": "markdown",
   "metadata": {},
   "source": [
    "<img src=\"images/MakerDownloadStructure.png\" width=\"200\"/>"
   ]
  },
  {
   "cell_type": "markdown",
   "metadata": {},
   "source": [
    "If, unlike me, you are a good C++ programmer.  You are now good to go.  You have all the getters and setters needed to leverage the standard you created.\n",
    "\n",
    "But, if you are like me, it would sure be nice to use this new standard in python in a Jupyter notebook, so let's do a little more so we can do that"
   ]
  },
  {
   "cell_type": "markdown",
   "metadata": {},
   "source": [
    "### Prep the output code to use in a Jupyter Notebook"
   ]
  },
  {
   "cell_type": "markdown",
   "metadata": {},
   "source": [
    "The first thing to note is that the code as is is designed to run on Linux.  If you have Linux, you can skip this.  But, I have a Mac, so I set up a VirtualBox.  How to set up VirtualBox has a variety of approaches.  But, you can follow the steps in the following tutorial to do that:  https://docs.tangramflex.io/docs/tutorials/tutorials/implement_csi"
   ]
  },
  {
   "cell_type": "markdown",
   "metadata": {},
   "source": [
    "Once you have that set up.  You can install a jupyter notebook with \"sudo pip install jupyter\".  And then you can run the notebook with \"run jupyter notebook\".\n",
    "\n",
    "Just a couple more things now."
   ]
  },
  {
   "cell_type": "markdown",
   "metadata": {},
   "source": [
    "First, at the time of writing this project there is a bug in Maker in the variables.mk file in the Transforms folder.  For the input and output CSI if you see \"Unknown\" or \"Unknown Folder\", change those to v3 and v2 respectively so it looks like the below.  If the folders have a directory, good news, we fixed the bug:)"
   ]
  },
  {
   "cell_type": "markdown",
   "metadata": {},
   "source": [
    "<img src=\"images/variables_mk_edit.png\" width=\"400\"/>"
   ]
  },
  {
   "cell_type": "markdown",
   "metadata": {},
   "source": [
    "Ok, next the python package I am using is ctypes.  Ctypes takes c, not c++.  So I just have to wrap the getters and setters in an extern C helper function.  This is included in the SupportingCode folder.  Also, the associated Makefile is there as well.  But, that helper c++ program in the Transform folder and replace the generated Makefile in the Transform folder with the provided Makefile"
   ]
  },
  {
   "cell_type": "markdown",
   "metadata": {},
   "source": [
    "Finally do the following: 1) In order to use the external c, go into the v3 folder in a terminal and first run \"make clean\" and then \"make ffi=y\".  Do the same in the v2 folder.  Then go to the Transform folder and run \"make\".  When it compiles you should have a new \"libmoviesmsg.so\" in that folder.  If you do, you are good to go for the next step."
   ]
  },
  {
   "cell_type": "markdown",
   "metadata": {},
   "source": [
    "### Use the ctypes package and the libmoviesmsg.so that you generated to use your standard that you created in code in a jupyter-notebook"
   ]
  },
  {
   "cell_type": "markdown",
   "metadata": {},
   "source": [
    "If you are not familiar with a jupyter-notebook.  Click on a below cell and either edit or hit shift-enter and the below code will execute."
   ]
  },
  {
   "cell_type": "code",
   "execution_count": 1,
   "metadata": {},
   "outputs": [],
   "source": [
    "# import the ctypes package in order to read the Tangram Maker \n",
    "# generated c/c++ transform standard represented in a shared object\n",
    "import numpy.ctypeslib as ctl\n",
    "import ctypes"
   ]
  },
  {
   "cell_type": "code",
   "execution_count": 2,
   "metadata": {},
   "outputs": [
    {
     "data": {
      "text/plain": [
       "'/media/sf_toy_movies'"
      ]
     },
     "execution_count": 2,
     "metadata": {},
     "output_type": "execute_result"
    }
   ],
   "source": [
    "# check your working directory and align editing directories in below cells accordingly\n",
    "%pwd"
   ]
  },
  {
   "cell_type": "code",
   "execution_count": 3,
   "metadata": {},
   "outputs": [],
   "source": [
    "# assign directories\n",
    "movie_libname = 'libmoviesmsg.so'\n",
    "movie_libdir = './movies_out_24_march_2022/transform'\n",
    "movie_lib=ctl.load_library(movie_libname, movie_libdir)"
   ]
  },
  {
   "cell_type": "code",
   "execution_count": 4,
   "metadata": {},
   "outputs": [],
   "source": [
    "# declare functions from the shared object\n",
    "# the Kaggle Review Rating Function\n",
    "py_int_movie_msg = movie_lib.create_and_populate_kaggle_msg\n",
    "# the kaggle Review Rating Argument Type\n",
    "py_int_movie_msg.argtypes = [ctypes.c_int]\n",
    "# the create placeholder IMDB Message Function\n",
    "py_imdb_msg = movie_lib.create_imdb_msg\n",
    "# the transform function from the kaggle review to the IMDB review\n",
    "my_try = movie_lib.transform_kaggle2imdb\n",
    "# the return kaggle movie rating transformed to the IMDB review rating function\n",
    "my_imdb_review = movie_lib.return_imdb_review\n",
    "# the returned imdb review result type\n",
    "my_imdb_review.restype = ctypes.c_char_p"
   ]
  },
  {
   "cell_type": "code",
   "execution_count": 5,
   "metadata": {},
   "outputs": [],
   "source": [
    "def kaggle2imdb(kaggle_review):\n",
    "    my_input = py_int_movie_msg(kaggle_review)\n",
    "    my_output = py_imdb_msg()\n",
    "    my_transform_success = my_try(my_input, my_output)\n",
    "    my_transform_output = my_imdb_review(my_output)\n",
    "    #ctypes returns bytes that needs to be decoded into a python string\n",
    "    my_workable_output = my_transform_output.decode(\"utf-8\")\n",
    "    return my_workable_output"
   ]
  },
  {
   "cell_type": "code",
   "execution_count": 6,
   "metadata": {},
   "outputs": [],
   "source": [
    "#input a moview review rating (Kaggle ratings are 1:5)\n",
    "review = 5"
   ]
  },
  {
   "cell_type": "code",
   "execution_count": 7,
   "metadata": {},
   "outputs": [
    {
     "data": {
      "text/plain": [
       "'Positive'"
      ]
     },
     "execution_count": 7,
     "metadata": {},
     "output_type": "execute_result"
    }
   ],
   "source": [
    "#transform the movie review rating from Kaggle to Imdb and return the result\n",
    "kaggle2imdb(review)"
   ]
  },
  {
   "cell_type": "code",
   "execution_count": 8,
   "metadata": {},
   "outputs": [],
   "source": [
    "#there are functions to free the memory that are provided that can also \n",
    "#be called and should be done for projects that are not toys"
   ]
  },
  {
   "cell_type": "markdown",
   "metadata": {},
   "source": [
    "### That is it.  Well done.  While this toy project may seem trivial.  Think about it.  You created a standard.  You modeled a standard.  You generated usable code to implement that standard and you then used that standard to get a job done.  You could publish this standard and either provide Maker accounts or the resulting code so that a community can then use that standard as opposed to everyone interpreting that standard in their code as they see fit.  Now everyone is on the same page."
   ]
  },
  {
   "cell_type": "code",
   "execution_count": null,
   "metadata": {},
   "outputs": [],
   "source": []
  }
 ],
 "metadata": {
  "kernelspec": {
   "display_name": "Python 3 (ipykernel)",
   "language": "python",
   "name": "python3"
  },
  "language_info": {
   "codemirror_mode": {
    "name": "ipython",
    "version": 3
   },
   "file_extension": ".py",
   "mimetype": "text/x-python",
   "name": "python",
   "nbconvert_exporter": "python",
   "pygments_lexer": "ipython3",
   "version": "3.8.10"
  }
 },
 "nbformat": 4,
 "nbformat_minor": 4
}
